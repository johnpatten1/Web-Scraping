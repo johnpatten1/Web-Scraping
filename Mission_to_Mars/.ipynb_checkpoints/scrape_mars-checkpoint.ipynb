{
 "cells": [
  {
   "cell_type": "code",
   "execution_count": null,
   "metadata": {},
   "outputs": [],
   "source": [
    "from splinter import Browser\n",
    "from bs4 import BeautifulSoup"
   ]
  },
  {
   "cell_type": "code",
   "execution_count": null,
   "metadata": {},
   "outputs": [],
   "source": [
    "def init_browser():\n",
    "    executable_path = {'executable_path': '/usr/local/bin/chromedriver'}\n",
    "    return Browser(\"chrome\", **executable_path, headless=False)"
   ]
  },
  {
   "cell_type": "code",
   "execution_count": 8,
   "metadata": {},
   "outputs": [],
   "source": [
    "def scrape():\n",
    "    browser = init_browser()\n",
    "    mars_dict = {}\n",
    "\n",
    "    #NASA\n",
    "    url = \"https://mars.nasa.gov/news.html/\"\n",
    "    browser.visit(url)\n",
    "    html = browser.html\n",
    "    soup = bs(html, 'html.parser')\n",
    "    news = soup.find(\"div\", class_=\"list_text\")\n",
    "    news_title = soup.find(\"div\", class_=\"content_title\").text\n",
    "    first_paragraph = news.find(\"div\", class_=\"article_teaser_body\").text\n",
    "    mars_dict = {\n",
    "        \"title\": news_title, \n",
    "        \"first paragraph\": first_paragraph\n",
    "    }\n",
    "    \n",
    "    #JPL\n",
    "    jpl_url = \"https://www.jpl.nasa.gov/spaceimages/?search=&category=Mars\"\n",
    "    browser.visit(jpl_url)\n",
    "    jpl_html = browser.html\n",
    "    soup = bs(jpl_html, 'html.parser')\n",
    "    img_tag = soup.find(\"div\", class_=\"carousel_items\")\n",
    "    img_tag = img_tag.find(\"article\")['style'].split(\"('\", 1)[1].split(\"')\")[0]\n",
    "    img_url = 'https://www.jpl.nasa.gov' + str(img_tag)\n",
    "    mars_dict.append = {\n",
    "        \"jpl_pic\": img_url\n",
    "    }\n",
    "    \n",
    "    #Weather\n",
    "    tweet_url = \"https://twitter.com/marswxreport\"\n",
    "    browser.visit(tweet_url)\n",
    "    tweet_html = browser.html\n",
    "    soup = bs(tweet_html, 'html')\n",
    "    tweets = []\n",
    "    for tweet in get_tweets('@MarsWxReport', pages=1):\n",
    "        tweeet = tweet['text']\n",
    "        tweets.append(tweeet)\n",
    "    mars_dict.append = {\n",
    "        \"tweet\": tweets[0]\n",
    "    }\n",
    "    \n",
    "    #Facts\n",
    "    mars_url = \"https://space-facts.com/mars/\"\n",
    "    tables = pd.read_html(mars_url)\n",
    "    tables = pd.DataFrame(tables[0]).to_html()\n",
    "    tables\n",
    "    \n",
    "    #Hemis\n",
    "    hemis_url = \"https://astrogeology.usgs.gov/search/results?q=hemisphere+enhanced&k1=target&v1=Mars\"\n",
    "    browser.visit(hemis_url)\n",
    "    hemis_html = browser.html\n",
    "    soup = bs(hemis_html, 'html')\n",
    "    hemisphere_imageurls = []\n",
    "    for i in range(4):\n",
    "        label = soup.find_all(\"img\", class_=\"thumb\")[i][\"src\"]\n",
    "        title = soup.find_all(\"h3\")[i].text\n",
    "        pic_url = hemis_url + label\n",
    "        mars_dict.append = {\n",
    "            \"title\": title, \n",
    "            \"img_url\": pic_url\n",
    "        }\n",
    "\n",
    "    return mars_dict"
   ]
  }
 ],
 "metadata": {
  "kernelspec": {
   "display_name": "Python 3",
   "language": "python",
   "name": "python3"
  },
  "language_info": {
   "codemirror_mode": {
    "name": "ipython",
    "version": 3
   },
   "file_extension": ".py",
   "mimetype": "text/x-python",
   "name": "python",
   "nbconvert_exporter": "python",
   "pygments_lexer": "ipython3",
   "version": "3.7.4"
  }
 },
 "nbformat": 4,
 "nbformat_minor": 2
}
